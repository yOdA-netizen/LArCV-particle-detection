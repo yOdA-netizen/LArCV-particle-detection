{
 "cells": [
  {
   "cell_type": "code",
   "execution_count": null,
   "metadata": {},
   "outputs": [],
   "source": [
    "import h5py\n",
    "import pandas as pd\n",
    "import numpy as np\n",
    "import os\n",
    "import tensorflow as tf\n",
    "import glob"
   ]
  },
  {
   "cell_type": "code",
   "execution_count": null,
   "metadata": {},
   "outputs": [],
   "source": [
    "vocab = ['electrons','protons','muons','pions','gamma']\n",
    "\n",
    "image_size = 128\n",
    "\n",
    "minibatch_size = 256 \n",
    "\n",
    "epochs = 1000\n",
    "learning_rate=0.0001\n",
    "training_size = 1500"
   ]
  },
  {
   "cell_type": "code",
   "execution_count": null,
   "metadata": {},
   "outputs": [],
   "source": [
    "def get_label(file_path):\n",
    "  # convert the path to a list of path components and one hot them\n",
    "    parts = tf.string_split([file_path], '/')\n",
    "    label = parts.values[-2] \n",
    "    matches = tf.stack([tf.equal(label, s) for s in vocab], axis=-1)\n",
    "    onehot = tf.cast(matches, tf.float32)\n",
    "    return onehot"
   ]
  },
  {
   "cell_type": "code",
   "execution_count": null,
   "metadata": {},
   "outputs": [],
   "source": [
    "def get_label_csv(file_path):\n",
    "    parts = tf.string_split([file_path], '/')\n",
    "    label = parts.values[-3] \n",
    "    matches = tf.stack([tf.equal(label, s) for s in vocab], axis=-1)\n",
    "    onehot = tf.cast(matches, tf.float32)\n",
    "    return onehot"
   ]
  },
  {
   "cell_type": "code",
   "execution_count": null,
   "metadata": {},
   "outputs": [],
   "source": [
    "def decode_img(img):\n",
    "  # convert the compressed string to a uint8 tensor\n",
    "  img = tf.image.decode_jpeg(img, channels=3)\n",
    "  # Use `convert_image_dtype` to convert to floats in the [0,1] range.\n",
    "  img = tf.image.convert_image_dtype(img, tf.float32)\n",
    "  # resize the image to the desired size.\n",
    "  img = tf.image.per_image_standardization(img)\n",
    "  return tf.image.resize(img, [image_size, image_size])"
   ]
  },
  {
   "cell_type": "code",
   "execution_count": null,
   "metadata": {},
   "outputs": [],
   "source": [
    "def process_image(file_path):\n",
    "  label = get_label(file_path)\n",
    "  # load the raw data from the file as a string\n",
    "  img = tf.io.read_file(file_path)\n",
    "  img = decode_img(img)\n",
    "  return img, label"
   ]
  },
  {
   "cell_type": "code",
   "execution_count": null,
   "metadata": {},
   "outputs": [],
   "source": [
    "def decode_csv(csv):\n",
    "#     rDefaults = [[0.]] * 8 + [[0]] \n",
    "#     csv= tf.io.decode_csv(csv, record_defaults=rDefaults)\n",
    "    parsed_line = tf.decode_csv(csv, [[0.],[0.],[0.],[0.],[0.],[0.],[0.],[0.]])\n",
    "    return parsed_line\n",
    "    "
   ]
  },
  {
   "cell_type": "code",
   "execution_count": null,
   "metadata": {},
   "outputs": [],
   "source": [
    "def process_csv(file_path):\n",
    "    #csv = tf.data.experimental.make_csv_dataset(file_path,batch_size=128)\n",
    "    #csv = tf.data.experimental.CsvDataset(file_path,header=True,record_defaults=[tf.f]*8)\n",
    "    \n",
    "#     csv = tf.io.read_file(file_path)\n",
    "    \n",
    "    label = get_label_csv(file_path)\n",
    "    dataset = decode_csv(file_path)\n",
    "#     csv = decode_csv(csv)\n",
    "#     csv = pd.read_csv(file_path)\n",
    "#     dataset = tf.data.Dataset.from_tensor_slices((df.values))\n",
    "    \n",
    "    \n",
    "    return dataset,label\n",
    "\n",
    "    \n",
    "    "
   ]
  },
  {
   "cell_type": "code",
   "execution_count": 1,
   "metadata": {},
   "outputs": [],
   "source": [
    "def load_dataset(image_dir,frequency_dir,minibatch_size,num_parallel_calls=8):\n",
    "    list_ds = tf.data.Dataset.list_files(image_dir)\n",
    "    \n",
    "#     list_frequency_ds = tf.data.Dataset.list_files(frequency_dir)\n",
    "# # Set `num_parallel_calls` so multiple images are loaded/processed in parallel.\n",
    "\n",
    "    image_dataset = list_ds.map(process_image, num_parallel_calls)  \n",
    "    batched_image_dataset = image_dataset.batch(minibatch_size).prefetch(1)\n",
    "    \n",
    "\n",
    "   # csv_dataset = tf.data.TextLineDataset(frequency_dir).skip(1).map(decode_csv)\n",
    "\n",
    "    csv_dataset = tf.data.experimental.make_csv_dataset(frequency_dir,batch_size=8,shuffle=False)\n",
    "    \n",
    "    dataset = [batched_image_dataset,csv_dataset]\n",
    "    return dataset"
   ]
  },
  {
   "cell_type": "code",
   "execution_count": null,
   "metadata": {},
   "outputs": [],
   "source": []
  }
 ],
 "metadata": {
  "kernelspec": {
   "display_name": "Python 3",
   "language": "python",
   "name": "python3"
  },
  "language_info": {
   "codemirror_mode": {
    "name": "ipython",
    "version": 3
   },
   "file_extension": ".py",
   "mimetype": "text/x-python",
   "name": "python",
   "nbconvert_exporter": "python",
   "pygments_lexer": "ipython3",
   "version": "3.6.8"
  }
 },
 "nbformat": 4,
 "nbformat_minor": 2
}
